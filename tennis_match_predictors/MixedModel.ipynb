{
 "cells": [
  {
   "cell_type": "code",
   "execution_count": null,
   "id": "0e878e93",
   "metadata": {},
   "outputs": [
    {
     "name": "stdout",
     "output_type": "stream",
     "text": [
      "Validation accuracy (stacked): 0.691\n",
      "Test accuracy (stacked): 0.680\n"
     ]
    }
   ],
   "source": [
    "from sklearn.ensemble import StackingClassifier, RandomForestClassifier\n",
    "from xgboost import XGBClassifier\n",
    "from sklearn.linear_model import LogisticRegression\n",
    "from sklearn.model_selection import train_test_split\n",
    "import pandas as pd\n",
    "\n",
    "\n",
    "\n",
    "matches_with_features = pd.read_csv('tennis_matches_enriched.csv', parse_dates=['date'])\n",
    "\n",
    "\n",
    "predictors = [\n",
    "    \"playerCode\", \"opponentCode\",\n",
    "    \"Rank_1\", \"Rank_2\", \"Pts_1\", \"Pts_2\",\n",
    "    \"h2h_matches\", \"h2h_win_pct\", \"h2h_surface_matches\", \"h2h_surface_win_pct\",\n",
    "    \"recent_matches_p1\", \"recent_win_pct_p1\", \"recent_avg_opp_rank_p1\",\n",
    "    \"recent_matches_p2\", \"recent_win_pct_p2\", \"recent_avg_opp_rank_p2\",\n",
    "    \"win_pct_surface_p1\", \"win_pct_surface_p2\",\n",
    "    \"series_level\", \"round_num\", \"best_of\",\n",
    "    \"implied_prob_p1\", \"implied_prob_p2\",\n",
    "]\n",
    "\n",
    "# Split data - Updated version\n",
    "train = matches_with_features[\n",
    "    (matches_with_features['date'] >= '2000-01-03') & \n",
    "    (matches_with_features['date'] <= '2022-12-31')  # Train on first 23 years\n",
    "]\n",
    "\n",
    "test = matches_with_features[\n",
    "    (matches_with_features['date'] >= '2023-01-01') & \n",
    "    (matches_with_features['date'] <= '2024-06-29')  # Test on most recent 1.5 years\n",
    "]\n",
    "\n",
    "# Optionally split train further to create a proper validation stack\n",
    "X_train, X_valid, y_train, y_valid = train_test_split(\n",
    "    train[predictors], train[\"target\"], test_size=0.2, random_state=42\n",
    ")\n",
    "\n",
    "# Base models\n",
    "xgb_model = XGBClassifier(\n",
    "    subsample=1.0,\n",
    "    n_estimators=700,\n",
    "    min_child_weight=10,\n",
    "    max_depth=4,\n",
    "    learning_rate=0.1,\n",
    "    gamma=5,\n",
    "    colsample_bytree=0.6,\n",
    "    random_state=1,\n",
    "    n_jobs=-1\n",
    ")\n",
    "\n",
    "rf_model = RandomForestClassifier(\n",
    "    n_estimators=400,\n",
    "    min_samples_split=40,\n",
    "    min_samples_leaf=20,\n",
    "    max_features=5,\n",
    "    random_state=1,\n",
    "    n_jobs=-1\n",
    ")\n",
    "\n",
    "# Meta-model: Logistic Regression\n",
    "meta_model = LogisticRegression()\n",
    "\n",
    "# Stacking\n",
    "stacked_model = StackingClassifier(\n",
    "    estimators=[\n",
    "        ('xgb', xgb_model),\n",
    "        ('rf', rf_model)\n",
    "    ],\n",
    "    final_estimator=meta_model,\n",
    "    passthrough=False,   # set to True if you want raw features also fed to meta model\n",
    "    cv=5,\n",
    "    n_jobs=-1\n",
    ")\n",
    "\n",
    "# Fit stacking model\n",
    "stacked_model.fit(X_train, y_train)\n",
    "\n",
    "# Evaluate on validation\n",
    "valid_accuracy = stacked_model.score(X_valid, y_valid)\n",
    "print(f\"Validation accuracy (stacked): {valid_accuracy:.3f}\")\n",
    "\n",
    "# Final evaluation on test\n",
    "test_accuracy = stacked_model.score(test[predictors], test[\"target\"])\n",
    "print(f\"Test accuracy (stacked): {test_accuracy:.3f}\")\n"
   ]
  },
  {
   "cell_type": "markdown",
   "id": "c9b75312",
   "metadata": {},
   "source": [
    "In this first attempt we run a logistic regresion to give importance to both methods xbg and rf, we get the best accuracy for the moment which is 0.68"
   ]
  },
  {
   "cell_type": "markdown",
   "id": "8f9fff2f",
   "metadata": {},
   "source": [
    "Same with neural network"
   ]
  },
  {
   "cell_type": "code",
   "execution_count": 5,
   "id": "1157c19b",
   "metadata": {},
   "outputs": [
    {
     "name": "stdout",
     "output_type": "stream",
     "text": [
      "Validation accuracy (stacked + NN): 0.692\n",
      "Test accuracy (stacked + NN): 0.679\n"
     ]
    }
   ],
   "source": [
    "from sklearn.neural_network import MLPClassifier\n",
    "\n",
    "mlp_meta = MLPClassifier(\n",
    "    hidden_layer_sizes=(32, 16),  # Add another layer\n",
    "    activation='relu',\n",
    "    solver='adam',\n",
    "    alpha=0.001,  # Add L2 regularization\n",
    "    learning_rate='adaptive',  # Helps with convergence\n",
    "    early_stopping=True,  # Prevents overfitting\n",
    "    validation_fraction=0.1,\n",
    "    max_iter=1000,\n",
    "    random_state=1\n",
    ")\n",
    "# Stacking classifier\n",
    "stacked_nn_model = StackingClassifier(\n",
    "    estimators=[\n",
    "        ('xgb', xgb_model),\n",
    "        ('rf', rf_model)\n",
    "    ],\n",
    "    final_estimator=mlp_meta,\n",
    "    passthrough=False,\n",
    "    cv=5,\n",
    "    n_jobs=-1\n",
    ")\n",
    "\n",
    "# Fit model\n",
    "stacked_nn_model.fit(X_train, y_train)\n",
    "\n",
    "# Evaluate\n",
    "valid_acc = stacked_nn_model.score(X_valid, y_valid)\n",
    "test_acc = stacked_nn_model.score(test[predictors], test[\"target\"])\n",
    "\n",
    "print(f\"Validation accuracy (stacked + NN): {valid_acc:.3f}\")\n",
    "print(f\"Test accuracy (stacked + NN): {test_acc:.3f}\")"
   ]
  },
  {
   "cell_type": "markdown",
   "id": "cdc0d6ca",
   "metadata": {},
   "source": [
    "With neural networks we try puting 2 layers but the accuracy doesn't increase and it stays at 0.679"
   ]
  }
 ],
 "metadata": {
  "kernelspec": {
   "display_name": "base",
   "language": "python",
   "name": "python3"
  },
  "language_info": {
   "codemirror_mode": {
    "name": "ipython",
    "version": 3
   },
   "file_extension": ".py",
   "mimetype": "text/x-python",
   "name": "python",
   "nbconvert_exporter": "python",
   "pygments_lexer": "ipython3",
   "version": "3.12.4"
  }
 },
 "nbformat": 4,
 "nbformat_minor": 5
}
