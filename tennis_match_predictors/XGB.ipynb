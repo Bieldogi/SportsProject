{
 "cells": [
  {
   "cell_type": "code",
   "execution_count": null,
   "id": "1dd718ad",
   "metadata": {},
   "outputs": [
    {
     "name": "stdout",
     "output_type": "stream",
     "text": [
      "n_estimators=700: Test accuracy = 0.677\n",
      "n_estimators=700: Test accuracy = 0.676\n"
     ]
    }
   ],
   "source": [
    "from xgboost import XGBClassifier\n",
    "import pandas as pd\n",
    "from sklearn.ensemble import RandomForestClassifier\n",
    "from datetime import datetime, timedelta\n",
    "from sklearn.model_selection import train_test_split  # For splitting data\n",
    "from sklearn.linear_model import LinearRegression  # For linear models\n",
    "from sklearn.ensemble import RandomForestClassifier  # For tree-based models\n",
    "from sklearn.svm import SVC  # For support vector machines\n",
    "from sklearn.neural_network import MLPClassifier  # For neural networks\n",
    "from sklearn.model_selection import RandomizedSearchCV\n",
    "\n",
    "matches_with_features = pd.read_csv('tennis_matches_enriched.csv', parse_dates=['date'])\n",
    "\n",
    "\n",
    "predictors = [\n",
    "    \"playerCode\", \"opponentCode\",\n",
    "    \"Rank_1\", \"Rank_2\", \"Pts_1\", \"Pts_2\",\n",
    "    \"h2h_matches\", \"h2h_win_pct\", \"h2h_surface_matches\", \"h2h_surface_win_pct\",\n",
    "    \"recent_matches_p1\", \"recent_win_pct_p1\", \"recent_avg_opp_rank_p1\",\n",
    "    \"recent_matches_p2\", \"recent_win_pct_p2\", \"recent_avg_opp_rank_p2\",\n",
    "    \"win_pct_surface_p1\", \"win_pct_surface_p2\",\n",
    "    \"series_level\", \"round_num\", \"best_of\",\n",
    "    \"implied_prob_p1\", \"implied_prob_p2\",\n",
    "]\n",
    "\n",
    "# Split data - Updated version\n",
    "train = matches_with_features[\n",
    "    (matches_with_features['date'] >= '2000-01-03') & \n",
    "    (matches_with_features['date'] <= '2022-12-31')  # Train on first 23 years\n",
    "]\n",
    "\n",
    "test = matches_with_features[\n",
    "    (matches_with_features['date'] >= '2023-01-01') & \n",
    "    (matches_with_features['date'] <= '2024-06-29')  # Test on most recent 1.5 years\n",
    "]\n",
    "\n",
    "\"\"\"\n",
    "param_grid = {\n",
    "    'n_estimators': [300, 500, 700],\n",
    "    'learning_rate': [0.01, 0.05, 0.1],\n",
    "    'max_depth': [4, 6, 8],\n",
    "    'subsample': [0.6, 0.8, 1.0],\n",
    "    'colsample_bytree': [0.6, 0.8, 1.0],\n",
    "    'gamma': [0, 1, 5],\n",
    "    'min_child_weight': [1, 5, 10]\n",
    "}\n",
    "\n",
    "search = RandomizedSearchCV(\n",
    "    estimator=XGBClassifier(),\n",
    "    param_distributions=param_grid,\n",
    "    n_iter=50,\n",
    "    scoring='accuracy',\n",
    "    cv=5,\n",
    "    n_jobs=-1,\n",
    "    random_state=1\n",
    ")\n",
    "\n",
    "search.fit(train[predictors], train[\"target\"])\n",
    "print(f\"Best params: {search.best_params_}\")\"\"\"\n",
    "\n",
    "\n",
    "best_model = XGBClassifier(\n",
    "    subsample=1.0,\n",
    "    n_estimators=700,\n",
    "    min_child_weight=10,\n",
    "    max_depth=4,\n",
    "    learning_rate=0.1,\n",
    "    gamma=5,\n",
    "    colsample_bytree=0.6,\n",
    "    random_state=1,\n",
    "    n_jobs=-1\n",
    ")\n",
    "best_model.fit(train[predictors], train[\"target\"])\n",
    "\n",
    "print(f\"n_estimators={700}: Test accuracy = {best_model.score(test[predictors], test['target']):.3f}\")\n"
   ]
  },
  {
   "cell_type": "code",
   "execution_count": null,
   "id": "83ca30fd",
   "metadata": {},
   "outputs": [],
   "source": []
  }
 ],
 "metadata": {
  "kernelspec": {
   "display_name": "base",
   "language": "python",
   "name": "python3"
  },
  "language_info": {
   "codemirror_mode": {
    "name": "ipython",
    "version": 3
   },
   "file_extension": ".py",
   "mimetype": "text/x-python",
   "name": "python",
   "nbconvert_exporter": "python",
   "pygments_lexer": "ipython3",
   "version": "3.12.4"
  }
 },
 "nbformat": 4,
 "nbformat_minor": 5
}
