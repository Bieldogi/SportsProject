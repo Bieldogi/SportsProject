{
 "cells": [
  {
   "cell_type": "code",
   "execution_count": null,
   "id": "06cf375d",
   "metadata": {
    "vscode": {
     "languageId": "plaintext"
    }
   },
   "outputs": [],
   "source": [
    "from catboost import CatBoostClassifier\n",
    "import pandas as pd\n",
    "from sklearn.metrics import classification_report\n",
    "\n",
    "# Load data\n",
    "matches_with_features = pd.read_csv('tennis_matches_enriched.csv', parse_dates=['date'])\n",
    "\n",
    "# Define predictors\n",
    "predictors = [\n",
    "    \"playerCode\", \"opponentCode\",\n",
    "    \"Rank_1\", \"Rank_2\", \"Pts_1\", \"Pts_2\",\n",
    "    \"h2h_matches\", \"h2h_win_pct\", \"h2h_surface_matches\", \"h2h_surface_win_pct\",\n",
    "    \"recent_matches_p1\", \"recent_win_pct_p1\", \"recent_avg_opp_rank_p1\",\n",
    "    \"recent_matches_p2\", \"recent_win_pct_p2\", \"recent_avg_opp_rank_p2\",\n",
    "    \"win_pct_surface_p1\", \"win_pct_surface_p2\",\n",
    "    \"series_level\", \"round_num\", \"best_of\",\n",
    "    \"implied_prob_p1\", \"implied_prob_p2\",\n",
    "]\n",
    "\n",
    "# Split data\n",
    "train = matches_with_features[\n",
    "    (matches_with_features['date'] >= '2000-01-03') & \n",
    "    (matches_with_features['date'] <= '2022-12-31')\n",
    "]\n",
    "\n",
    "test = matches_with_features[\n",
    "    (matches_with_features['date'] >= '2023-01-01') & \n",
    "    (matches_with_features['date'] <= '2024-06-29')\n",
    "]\n",
    "\n",
    "# Define categorical features for CatBoost\n",
    "cat_features = [\"playerCode\", \"opponentCode\", \"series_level\", \"round_num\", \"best_of\"]\n",
    "\n",
    "# Convert categorical features to string (recommended for CatBoost)\n",
    "for col in cat_features:\n",
    "    train[col] = train[col].astype(str)\n",
    "    test[col] = test[col].astype(str)\n",
    "\n",
    "# Define and train CatBoost model with early stopping and validation set\n",
    "model_cat = CatBoostClassifier(\n",
    "    iterations=8000,          # More iterations with early stopping\n",
    "    depth=10,                # Medium depth (between 6-8)\n",
    "    learning_rate=0.02,      # Lower learning rate for better accuracy\n",
    "    l2_leaf_reg=10,          # Stronger regularization\n",
    "    border_count=254,        # More splits for continuous features (default optimal)\n",
    "    random_strength=1,       # Controls randomness in splits\n",
    "    bagging_temperature=0.5, # Smooths bootstrap (useful for small data)\n",
    "    loss_function='Logloss',\n",
    "    eval_metric='Accuracy',  # Optimize accuracy directly\n",
    "    cat_features=cat_features,\n",
    "    early_stopping_rounds=50,# More patience for convergence\n",
    "    verbose=200,\n",
    "    random_state=42\n",
    ")\n",
    "\n",
    "model_cat.fit(\n",
    "    train[predictors], train[\"target\"],\n",
    "    eval_set=(test[predictors], test[\"target\"])\n",
    ")\n",
    "\n",
    "# Evaluate\n",
    "acc = model_cat.score(test[predictors], test['target'])\n",
    "print(f\"\\nCatBoost Accuracy: {acc:.3f}\")\n"
   ]
  }
 ],
 "metadata": {
  "language_info": {
   "name": "python"
  }
 },
 "nbformat": 4,
 "nbformat_minor": 5
}
